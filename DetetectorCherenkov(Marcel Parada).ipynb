{
 "cells": [
  {
   "cell_type": "markdown",
   "metadata": {},
   "source": [
    "#### Nombre: Marcel Parada , Codigo: 1007407019\n",
    "\n",
    "## Detetector Cherenkov"
   ]
  },
  {
   "cell_type": "markdown",
   "metadata": {},
   "source": [
    "# Para la Columna 1 de los datos"
   ]
  },
  {
   "cell_type": "code",
   "execution_count": 22,
   "metadata": {},
   "outputs": [
    {
     "name": "stdout",
     "output_type": "stream",
     "text": [
      "tamaño 2998576\n",
      "Los ultimos 4 datos columna 1\n"
     ]
    },
    {
     "data": {
      "image/png": "[encoded data removed]",
      "text/plain": [
       "<Figure size 432x288 with 1 Axes>"
      ]
     },
     "metadata": {
      "needs_background": "light"
     },
     "output_type": "display_data"
    }
   ],
   "source": [
    "#Aqui tomamos los 4 ultimos datos de cada pulso para la columna 1\n",
    "\n",
    "import bz2\n",
    "from numpy import zeros\n",
    "from pylab import *\n",
    "\n",
    "n = 0\n",
    "listaA=[]\n",
    "#with bz2.open( input (\"Please, enter the filename: \"), \"rt\" ) as bz_file:\n",
    "\n",
    "with bz2.open(\"Chitaga_2016_08_12_12h00.dat.bz2\", \"rt\" ) as bz_file:\n",
    "\n",
    "     for line in bz_file:\n",
    "        rline = line.rstrip('\\n').split(' ')\n",
    "        if len(rline)==3:\n",
    "            if rline[0]==\"#\":\n",
    "                ln=0\n",
    "            if rline[0]!=\"#\":\n",
    "                if ln >= 8: \n",
    "                    listaA.append(int(rline[0]))\n",
    "                else:\n",
    "                    ln += 1                    \n",
    "            #print( rline[0],rline[1],rline[2] )\n",
    "            #print(\"lista\",lista)\n",
    "        n += 1\n",
    "        #if n == 100:\n",
    "        #    break\n",
    "#print(\"lista\",lista)\n",
    "\n",
    "#plot(lista)\n",
    "\n",
    "y=len(listaA)\n",
    "print(\"tamaño\",y) \n",
    "\n",
    "#Creando Histograma\n",
    "\n",
    "# Histogram parameters\n",
    "histA = [] # Array for histogram\n",
    "startBin = 0\n",
    "endBin = 1500\n",
    "nbins = 1500\n",
    "binwidth = int((endBin - startBin) / nbins)\n",
    "#print(binwidth)\n",
    "\n",
    "[histA.append(0) for i in range(nbins)] # Inizialiting histo\n",
    "\n",
    "# Filling histogram\n",
    "for i in listaA:\n",
    "    histA[ int((i)/binwidth) ] += 1\n",
    "\n",
    "\n",
    "\n",
    "binesA=[]\n",
    "[binesA.append((i)*binwidth) for i in range(nbins)]\n",
    "\n",
    "\n",
    "print(\"Los ultimos 4 datos columna 1\")\n",
    "plot(binesA, histA, 'o')\n",
    "yscale('log')\n",
    "xlim(0,100)\n",
    "show()"
   ]
  },
  {
   "cell_type": "code",
   "execution_count": 23,
   "metadata": {},
   "outputs": [
    {
     "name": "stdout",
     "output_type": "stream",
     "text": [
      "Los siguiente valores calculados son para los 4 ultimos datos columna 1\n",
      "\n",
      "Valor medio 51.3\n",
      "Valor varianza 37.02\n",
      "Desviación estandar 6.08\n",
      "Kurtosis es 6946785.43 y es Leptokurtic\n",
      "Se inclina a la (+), valor skewness 11977.95\n"
     ]
    }
   ],
   "source": [
    "#Aqui se calcula para la columna 1\n",
    "print(\"Los siguiente valores calculados son para los 4 ultimos datos columna 1\\n\")\n",
    "\n",
    "neventsA=len(listaA)\n",
    "\n",
    "#Con el fin de poder hallar el desviacion promedio, skew y la kurtosis debes hallar lo siguiente\n",
    "\n",
    "#Valor medio\n",
    "x=0\n",
    "for i in range(neventsA):\n",
    "    x+=listaA[i]\n",
    "xmedioA=x/neventsA\n",
    "\n",
    "print(\"Valor medio\",round(xmedioA,2))\n",
    "\n",
    "VarA=0\n",
    "for i in range(neventsA):\n",
    "    VarA+=(listaA[i]-xmedioA)**2\n",
    "varianzaA=VarA/(neventsA-1)\n",
    "\n",
    "print(\"Valor varianza\",round(varianzaA,2))\n",
    "\n",
    "sigmaA=sqrt(varianzaA)\n",
    "print(\"Desviación estandar\",round(sigmaA,2))\n",
    "    \n",
    "kurt=0\n",
    "for i in range(neventsA):\n",
    "    kurt+=((((listaA[i]-xmedio)/sigma)**4)-3)\n",
    "kurtosis=kurt/neventsA\n",
    "if kurtosis<0:\n",
    "    print(\"Kurtosis es\",round(kurtosis,2),\"y es Platykurtic\")\n",
    "else:\n",
    "    print(\"Kurtosis es\",round(kurtosis,2),\"y es Leptokurtic\")\n",
    "    \n",
    "skew=0\n",
    "for i in range(neventsA):\n",
    "    skew+=(((listaA[i]-xmedio)/sigma)**3)\n",
    "skewness=skew/neventsA\n",
    "\n",
    "if skewness<0:\n",
    "    print(\"Se inclina a la (-), valor skewness\",round(skewness,2))\n",
    "else:\n",
    "    print(\"Se inclina a la (+), valor skewness\",round(skewness,2))"
   ]
  },
  {
   "cell_type": "code",
   "execution_count": 13,
   "metadata": {},
   "outputs": [
    {
     "name": "stdout",
     "output_type": "stream",
     "text": [
      "tamaño 1499236\n",
      "Los primeros 2 datos columna 1\n"
     ]
    },
    {
     "data": {
      "image/png": "[encoded data removed]",
      "text/plain": [
       "<Figure size 432x288 with 1 Axes>"
      ]
     },
     "metadata": {
      "needs_background": "light"
     },
     "output_type": "display_data"
    }
   ],
   "source": [
    "#Aqui vamos a tomar las 2 primeros datos de cada pulso para la columna 1\n",
    "\n",
    "import bz2\n",
    "from numpy import zeros\n",
    "from pylab import *\n",
    "\n",
    "n = 0\n",
    "lista=[]\n",
    "#with bz2.open( input (\"Please, enter the filename: \"), \"rt\" ) as bz_file:\n",
    "\n",
    "with bz2.open(\"Chitaga_2016_08_12_12h00.dat.bz2\", \"rt\" ) as bz_file:\n",
    "\n",
    "     for line in bz_file:\n",
    "        rline = line.rstrip('\\n').split(' ')\n",
    "        if len(rline)==3:\n",
    "            if rline[0]==\"#\":\n",
    "                ln=0\n",
    "            if rline[0]!=\"#\":\n",
    "                if ln <= 1: \n",
    "                    lista.append(int(rline[0]))\n",
    "                #else:\n",
    "                ln += 1                    \n",
    "            #print( rline[0],rline[1],rline[2] )\n",
    "            #print(\"lista\",lista)\n",
    "        n += 1\n",
    "        #if n == 100:\n",
    "            #break\n",
    "#print(\"lista\",lista)\n",
    "#plot(lista)\n",
    "\n",
    "y=len(lista)\n",
    "print(\"tamaño\",y) \n",
    "\n",
    "#Creando Histograma\n",
    "\n",
    "# Histogram parameters\n",
    "hist = [] # Array for histogram\n",
    "startBin = 0\n",
    "endBin = 1500\n",
    "nbins = 1500\n",
    "binwidth = int((endBin - startBin) / nbins)\n",
    "\n",
    "[hist.append(0) for i in range(nbins)] # Inizialiting histo\n",
    "\n",
    "# Filling histogram\n",
    "for i in lista:\n",
    "    hist[ int((i)/binwidth) ] += 1\n",
    "\n",
    "\n",
    "\n",
    "bines=[]\n",
    "[bines.append((i)*binwidth) for i in range(nbins)]\n",
    "\n",
    "\n",
    "print(\"Los primeros 2 datos columna 1\")\n",
    "plot(bines, hist, 'o')\n",
    "yscale('log')\n",
    "xlim(0,100)\n",
    "show()"
   ]
  },
  {
   "cell_type": "code",
   "execution_count": 5,
   "metadata": {},
   "outputs": [
    {
     "name": "stdout",
     "output_type": "stream",
     "text": [
      "Los siguiente valores calculados son para los 2 primeros datos columna 1\n",
      "\n",
      "Valor medio 51.64\n",
      "Valor Varianza 50.29\n",
      "Desviación estandar 7.09\n",
      "Kurtosis es 19.13 y es Leptokurtic\n",
      "Se inclina a la (+), valor skewness) 4.06\n"
     ]
    }
   ],
   "source": [
    "#Aqui se calcula para la columna 1\n",
    "print(\"Los siguiente valores calculados son para los 2 primeros datos columna 1\\n\")\n",
    "\n",
    "nevents=len(lista)\n",
    "\n",
    "#Con el fin de poder hallar el desviacion promedio, skew y la kurtosis debes hallar lo siguiente\n",
    "\n",
    "#Valor medio\n",
    "x=0\n",
    "for i in range(nevents):\n",
    "    x+=lista[i]\n",
    "xmedio=x/nevents\n",
    "\n",
    "print(\"Valor medio\",round(xmedio,2))\n",
    "\n",
    "Var=0\n",
    "for i in range(nevents):\n",
    "    Var+=(lista[i]-xmedio)**2\n",
    "varianza=Var/(nevents-1)\n",
    "\n",
    "print(\"Valor Varianza\",round(varianza,2))\n",
    "\n",
    "sigma=sqrt(varianza)\n",
    "print(\"Desviación estandar\",round(sigma,2))\n",
    "    \n",
    "kurt=0\n",
    "for i in range(nevents):\n",
    "    kurt+=((((lista[i]-xmedio)/sigma)**4)-3)\n",
    "kurtosis=kurt/nevents\n",
    "if kurtosis<0:\n",
    "    print(\"Kurtosis es\",round(kurtosis,2),\"y es Platykurtic\")\n",
    "else:\n",
    "    print(\"Kurtosis es\",round(kurtosis,2),\"y es Leptokurtic\")\n",
    "    \n",
    "skew=0\n",
    "for i in range(nevents):\n",
    "    skew+=(((lista[i]-xmedio)/sigma)**3)\n",
    "skewness=skew/nevents\n",
    "\n",
    "if skewness<0:\n",
    "    print(\"Se inclina a la (-), valor skewness)\",round(skewness,2))\n",
    "else:\n",
    "    print(\"Se inclina a la (+), valor skewness)\",round(skewness,2))"
   ]
  },
  {
   "cell_type": "markdown",
   "metadata": {},
   "source": [
    "# Para la Columna 2 de los datos"
   ]
  },
  {
   "cell_type": "code",
   "execution_count": 14,
   "metadata": {},
   "outputs": [
    {
     "name": "stdout",
     "output_type": "stream",
     "text": [
      "tamaño 2998576\n",
      "Los ultimos 4 datos columna 2\n"
     ]
    },
    {
     "data": {
      "image/png": "[encoded data removed]",
      "text/plain": [
       "<Figure size 432x288 with 1 Axes>"
      ]
     },
     "metadata": {
      "needs_background": "light"
     },
     "output_type": "display_data"
    }
   ],
   "source": [
    "#Aqui tomamos los 4 ultimos datos de cada pulso para la columna 2\n",
    "\n",
    "import bz2\n",
    "from numpy import zeros\n",
    "from pylab import *\n",
    "\n",
    "n = 0\n",
    "lista=[]\n",
    "#with bz2.open( input (\"Please, enter the filename: \"), \"rt\" ) as bz_file:\n",
    "\n",
    "with bz2.open(\"Chitaga_2016_08_12_12h00.dat.bz2\", \"rt\" ) as bz_file:\n",
    "\n",
    "     for line in bz_file:\n",
    "        rline = line.rstrip('\\n').split(' ')\n",
    "        if len(rline)==3:\n",
    "            if rline[0]==\"#\":\n",
    "                ln=0\n",
    "            if rline[0]!=\"#\":\n",
    "                if ln >= 8: \n",
    "                    lista.append(int(rline[1]))\n",
    "                else:\n",
    "                    ln += 1                    \n",
    "            #print( rline[0],rline[1],rline[2] )\n",
    "            #print(\"lista\",lista)\n",
    "        n += 1\n",
    "        #if n == 100:\n",
    "        #    break\n",
    "#print(\"lista\",lista)\n",
    "\n",
    "#plot(lista)\n",
    "\n",
    "y=len(lista)\n",
    "print(\"tamaño\",y) \n",
    "\n",
    "#Creando Histograma\n",
    "\n",
    "# Histogram parameters\n",
    "hist = [] # Array for histogram\n",
    "startBin = 0\n",
    "endBin = 1500\n",
    "nbins = 1500\n",
    "binwidth = int((endBin - startBin) / nbins)\n",
    "#print(binwidth)\n",
    "\n",
    "[hist.append(0) for i in range(nbins)] # Inizialiting histo\n",
    "\n",
    "# Filling histogram\n",
    "for i in lista:\n",
    "    hist[ int((i)/binwidth) ] += 1\n",
    "\n",
    "\n",
    "\n",
    "bines=[]\n",
    "[bines.append((i)*binwidth) for i in range(nbins)]\n",
    "\n",
    "\n",
    "print(\"Los ultimos 4 datos columna 2\")\n",
    "plot(bines, hist, 'o')\n",
    "yscale('log')\n",
    "xlim(0,100)\n",
    "show()"
   ]
  },
  {
   "cell_type": "code",
   "execution_count": 7,
   "metadata": {},
   "outputs": [
    {
     "name": "stdout",
     "output_type": "stream",
     "text": [
      "Los siguiente valores calculados son para los 4 ultimos datos columna 2\n",
      "\n",
      "Valor medio 49.99\n",
      "Valor Varianza 6.17\n",
      "Desviación estandar 2.48\n",
      "Kurtosis es 60594.82 y es Leptokurtic\n",
      "Se inclina a la (+), valor skewness 198.7\n"
     ]
    }
   ],
   "source": [
    "#Aqui se calcula para la columna 2\n",
    "print(\"Los siguiente valores calculados son para los 4 ultimos datos columna 2\\n\")\n",
    "\n",
    "nevents=len(lista)\n",
    "\n",
    "#Con el fin de poder hallar el desviacion promedio, skew y la kurtosis debes hallar lo siguiente\n",
    "\n",
    "#Valor medio\n",
    "x=0\n",
    "for i in range(nevents):\n",
    "    x+=lista[i]\n",
    "xmedio=x/nevents\n",
    "\n",
    "print(\"Valor medio\",round(xmedio,2))\n",
    "\n",
    "Var=0\n",
    "for i in range(nevents):\n",
    "    Var+=(lista[i]-xmedio)**2\n",
    "varianza=Var/(nevents-1)\n",
    "\n",
    "print(\"Valor Varianza\",round(varianza,2))\n",
    "\n",
    "sigma=sqrt(varianza)\n",
    "print(\"Desviación estandar\",round(sigma,2))\n",
    "    \n",
    "kurt=0\n",
    "for i in range(nevents):\n",
    "    kurt+=((((lista[i]-xmedio)/sigma)**4)-3)\n",
    "kurtosis=kurt/nevents\n",
    "if kurtosis<0:\n",
    "    print(\"Kurtosis es\",round(kurtosis,2),\"y es Platykurtic\")\n",
    "else:\n",
    "    print(\"Kurtosis es\",round(kurtosis,2),\"y es Leptokurtic\")\n",
    "    \n",
    "skew=0\n",
    "for i in range(nevents):\n",
    "    skew+=(((lista[i]-xmedio)/sigma)**3)\n",
    "skewness=skew/nevents\n",
    "\n",
    "if skewness<0:\n",
    "    print(\"Se inclina a la (-), valor skewness\",round(skewness,2))\n",
    "else:\n",
    "    print(\"Se inclina a la (+), valor skewness\",round(skewness,2))"
   ]
  },
  {
   "cell_type": "code",
   "execution_count": 15,
   "metadata": {},
   "outputs": [
    {
     "name": "stdout",
     "output_type": "stream",
     "text": [
      "tamaño 1499236\n",
      "Los primeros 2 datos columna 2\n"
     ]
    },
    {
     "data": {
      "image/png": "[encoded data removed]",
      "text/plain": [
       "<Figure size 432x288 with 1 Axes>"
      ]
     },
     "metadata": {
      "needs_background": "light"
     },
     "output_type": "display_data"
    }
   ],
   "source": [
    "#Aqui vamos a tomar las 2 primeros datos de cada pulso para la columna 2\n",
    "\n",
    "import bz2\n",
    "from numpy import zeros\n",
    "from pylab import *\n",
    "\n",
    "n = 0\n",
    "lista=[]\n",
    "#with bz2.open( input (\"Please, enter the filename: \"), \"rt\" ) as bz_file:\n",
    "\n",
    "with bz2.open(\"Chitaga_2016_08_12_12h00.dat.bz2\", \"rt\" ) as bz_file:\n",
    "\n",
    "     for line in bz_file:\n",
    "        rline = line.rstrip('\\n').split(' ')\n",
    "        if len(rline)==3:\n",
    "            if rline[0]==\"#\":\n",
    "                ln=0\n",
    "            if rline[0]!=\"#\":\n",
    "                if ln <= 1: \n",
    "                    lista.append(int(rline[1]))\n",
    "                #else:\n",
    "                ln += 1                    \n",
    "            #print( rline[0],rline[1],rline[2] )\n",
    "            #print(\"lista\",lista)\n",
    "        n += 1\n",
    "        #if n == 100:\n",
    "            #break\n",
    "#print(\"lista\",lista)\n",
    "#plot(lista)\n",
    "\n",
    "y=len(lista)\n",
    "print(\"tamaño\",y) \n",
    "\n",
    "#Creando Histograma\n",
    "\n",
    "# Histogram parameters\n",
    "hist = [] # Array for histogram\n",
    "startBin = 0\n",
    "endBin = 1500\n",
    "nbins = 1500\n",
    "binwidth = int((endBin - startBin) / nbins)\n",
    "\n",
    "[hist.append(0) for i in range(nbins)] # Inizialiting histo\n",
    "\n",
    "# Filling histogram\n",
    "for i in lista:\n",
    "    hist[ int((i)/binwidth) ] += 1\n",
    "\n",
    "\n",
    "\n",
    "bines=[]\n",
    "[bines.append((i)*binwidth) for i in range(nbins)]\n",
    "\n",
    "\n",
    "print(\"Los primeros 2 datos columna 2\")\n",
    "plot(bines, hist, 'o')\n",
    "yscale('log')\n",
    "xlim(0,100)\n",
    "show()"
   ]
  },
  {
   "cell_type": "code",
   "execution_count": 39,
   "metadata": {},
   "outputs": [
    {
     "name": "stdout",
     "output_type": "stream",
     "text": [
      "Los siguiente valores calculados son para los 2 primeros datos columna 2\n",
      "\n",
      "Valor medio 51.64\n",
      "Valor Medio 50.29\n",
      "Desviación estandar 7.09\n",
      "Kurtosis es 19.13 y es Leptokurtic\n",
      "Se inclina a la (+), valor skewness) 4.06\n"
     ]
    }
   ],
   "source": [
    "#Aqui se calcula para la columna 2\n",
    "print(\"Los siguiente valores calculados son para los 2 primeros datos columna 2\\n\")\n",
    "\n",
    "nevents=len(lista)\n",
    "\n",
    "#Con el fin de poder hallar el desviacion promedio, skew y la kurtosis debes hallar lo siguiente\n",
    "\n",
    "#Valor medio\n",
    "x=0\n",
    "for i in range(nevents):\n",
    "    x+=lista[i]\n",
    "xmedio=x/nevents\n",
    "\n",
    "print(\"Valor medio\",round(xmedio,2))\n",
    "\n",
    "Var=0\n",
    "for i in range(nevents):\n",
    "    Var+=(lista[i]-xmedio)**2\n",
    "varianza=Var/(nevents-1)\n",
    "\n",
    "print(\"Valor Medio\",round(varianza,2))\n",
    "\n",
    "sigma=sqrt(varianza)\n",
    "print(\"Desviación estandar\",round(sigma,2))\n",
    "    \n",
    "kurt=0\n",
    "for i in range(nevents):\n",
    "    kurt+=((((lista[i]-xmedio)/sigma)**4)-3)\n",
    "kurtosis=kurt/nevents\n",
    "if kurtosis<0:\n",
    "    print(\"Kurtosis es\",round(kurtosis,2),\"y es Platykurtic\")\n",
    "else:\n",
    "    print(\"Kurtosis es\",round(kurtosis,2),\"y es Leptokurtic\")\n",
    "    \n",
    "skew=0\n",
    "for i in range(nevents):\n",
    "    skew+=(((lista[i]-xmedio)/sigma)**3)\n",
    "skewness=skew/nevents\n",
    "\n",
    "if skewness<0:\n",
    "    print(\"Se inclina a la (-), valor skewness)\",round(skewness,2))\n",
    "else:\n",
    "    print(\"Se inclina a la (+), valor skewness)\",round(skewness,2))"
   ]
  },
  {
   "cell_type": "markdown",
   "metadata": {},
   "source": [
    "# Para la Columna 3 de los datos"
   ]
  },
  {
   "cell_type": "code",
   "execution_count": null,
   "metadata": {},
   "outputs": [],
   "source": []
  },
  {
   "cell_type": "code",
   "execution_count": null,
   "metadata": {},
   "outputs": [],
   "source": []
  },
  {
   "cell_type": "code",
   "execution_count": 24,
   "metadata": {},
   "outputs": [
    {
     "name": "stdout",
     "output_type": "stream",
     "text": [
      "tamaño 8995413\n",
      "Datos columna 3\n"
     ]
    },
    {
     "data": {
      "image/png": "[encoded data removed]",
      "text/plain": [
       "<Figure size 432x288 with 1 Axes>"
      ]
     },
     "metadata": {
      "needs_background": "light"
     },
     "output_type": "display_data"
    }
   ],
   "source": [
    "#Aqui vamos a tomar TODOS los datos del pulso para la columna 3\n",
    "\n",
    "import bz2\n",
    "from numpy import zeros\n",
    "from pylab import *\n",
    "\n",
    "n = 0\n",
    "listaC=[]\n",
    "#with bz2.open( input (\"Please, enter the filename: \"), \"rt\" ) as bz_file:\n",
    "\n",
    "with bz2.open(\"Chitaga_2016_08_12_12h00.dat.bz2\", \"rt\" ) as bz_file:\n",
    "\n",
    "     for line in bz_file:\n",
    "        rline = line.rstrip('\\n').split(' ')\n",
    "        if len(rline)==3:\n",
    "            if rline[0]==\"#\":\n",
    "                ln=0\n",
    "            if rline[0]!=\"#\":\n",
    "                if ln <= 11: \n",
    "                    listaC.append(int(rline[2]))\n",
    "                #else:\n",
    "                ln += 1                    \n",
    "            #print( rline[0],rline[1],rline[2] )\n",
    "            #print(\"lista\",lista)\n",
    "        n += 1\n",
    "        #if n == 300:\n",
    "        #    break\n",
    "#print(\"lista\",lista)\n",
    "#plot(lista)\n",
    "\n",
    "y=len(listaC)\n",
    "print(\"tamaño\",y) \n",
    "\n",
    "#Creando Histograma\n",
    "\n",
    "# Histogram parameters\n",
    "histC = [] # Array for histogram\n",
    "startBin = 0\n",
    "endBin = 1500\n",
    "nbins = 1500\n",
    "binwidth = int((endBin - startBin) / nbins)\n",
    "\n",
    "[histC.append(0) for i in range(nbins)] # Inizialiting histo\n",
    "\n",
    "# Filling histogram\n",
    "for i in listaC:\n",
    "    histC[ int((i)/binwidth) ] += 1\n",
    "\n",
    "\n",
    "\n",
    "binesC=[]\n",
    "[binesC.append((i)*binwidth) for i in range(nbins)]\n",
    "\n",
    "\n",
    "print(\"Datos columna 3\")\n",
    "plot(binesC, histC, 'o')\n",
    "yscale('log')\n",
    "xlim(0,100)\n",
    "show()"
   ]
  },
  {
   "cell_type": "code",
   "execution_count": 17,
   "metadata": {},
   "outputs": [
    {
     "name": "stdout",
     "output_type": "stream",
     "text": [
      "Los siguiente valores calculados son para columna 3\n",
      "\n",
      "Valor medio 50.0\n",
      "Valor Varianza 0.79\n",
      "Desviación estandar 0.89\n",
      "Kurtosis es 20.56 y es Leptokurtic\n",
      "Se inclina a la (+), valor skewness) 1.38\n"
     ]
    }
   ],
   "source": [
    "#Aqui se calcula para la columna 3\n",
    "print(\"Los siguiente valores calculados son para columna 3\\n\")\n",
    "\n",
    "neventsC=len(listaC)\n",
    "\n",
    "#Con el fin de poder hallar el desviacion promedio, skew y la kurtosis debes hallar lo siguiente\n",
    "\n",
    "#Valor medio\n",
    "x=0\n",
    "for i in range(neventsC):\n",
    "    x+=listaC[i]\n",
    "xmedio=x/neventsC\n",
    "\n",
    "print(\"Valor medio\",round(xmedio,2))\n",
    "\n",
    "Var=0\n",
    "for i in range(neventsC):\n",
    "    Var+=(listaC[i]-xmedio)**2\n",
    "varianza=Var/(neventsC-1)\n",
    "\n",
    "print(\"Valor Varianza\",round(varianza,2))\n",
    "\n",
    "sigma=sqrt(varianza)\n",
    "print(\"Desviación estandar\",round(sigma,2))\n",
    "    \n",
    "kurt=0\n",
    "for i in range(neventsC):\n",
    "    kurt+=((((listaC[i]-xmedio)/sigma)**4)-3)\n",
    "kurtosis=kurt/neventsC\n",
    "if kurtosis<0:\n",
    "    print(\"Kurtosis es\",round(kurtosis,2),\"y es Platykurtic\")\n",
    "else:\n",
    "    print(\"Kurtosis es\",round(kurtosis,2),\"y es Leptokurtic\")\n",
    "    \n",
    "skew=0\n",
    "for i in range(neventsC):\n",
    "    skew+=(((listaC[i]-xmedio)/sigma)**3)\n",
    "skewness=skew/neventsC\n",
    "\n",
    "if skewness<0:\n",
    "    print(\"Se inclina a la (-), valor skewness)\",round(skewness,2))\n",
    "else:\n",
    "    print(\"Se inclina a la (+), valor skewness)\",round(skewness,2))"
   ]
  },
  {
   "cell_type": "markdown",
   "metadata": {},
   "source": [
    "## Reporte"
   ]
  },
  {
   "cell_type": "markdown",
   "metadata": {},
   "source": [
    "Las librerias utilizada como la import bz2 cuya finalidad fue poder abrir el archivo .bz2 las otras dos librerias se utilizaron con la finalidad de poder crear una lista en comun para los datos y graficar con el fin de poder determinar que sucede.\n",
    "\n",
    "Hablando ahora con respecto al detector Detetector Cherenkov el cual es usado para ver la caida de los rayos cosmiscos, aqui vemos histogramas obtenido de este detector.\n",
    "\n",
    "Mirando el comportamiento de los resultados de la columna 1 con respecto a la columna 2 vemos que el valor medio de los 4 ultimos valores estan algo separado para ambos casos, pero muy minimo , ahora con respecto a la desviacion estandar los valores son muy lejanos del uno al otro, seguidamente la inclinacion de ambos fue (+); seguidamente los 2 primeros valores el valor medio es identico.\n",
    "\n",
    "Si miramos la columna 1 vs columna 3 y la comparamos observamos que la varianza de la columna 1 tiene mayor ancho; ademas el valor medio de la columna 3 marca la mitad de los datos.Ademas gracias a la Kurtosis vemos que los 4 ultimos datos tienen mayor picosidad que la columana 3 y su diferenia es alta."
   ]
  },
  {
   "cell_type": "markdown",
   "metadata": {},
   "source": [
    "# Estadistica de Cauchy, T-Student"
   ]
  },
  {
   "cell_type": "code",
   "execution_count": 18,
   "metadata": {},
   "outputs": [
    {
     "data": {
      "image/png": "[encoded data removed]",
      "text/plain": [
       "<Figure size 432x288 with 1 Axes>"
      ]
     },
     "metadata": {
      "needs_background": "light"
     },
     "output_type": "display_data"
    }
   ],
   "source": [
    "#Uch3|U4bin\n",
    "import matplotlib.pyplot as plt\n",
    "plt.plot(binesC,histC, 'ro')\n",
    "plt.plot(binesA,histA, 'bo')\n",
    "plt.grid()\n",
    "xlim(30,70)\n",
    "plt.show()\n",
    "\n"
   ]
  },
  {
   "cell_type": "code",
   "execution_count": 21,
   "metadata": {},
   "outputs": [],
   "source": [
    "#E-Student\n",
    "\n",
    "sdA=0\n",
    "for i in range(neventsA):\n",
    "    sdA+=(listaA[i]-xmedioA)**2\n",
    "sdAmedio=\n",
    "    \n"
   ]
  },
  {
   "cell_type": "code",
   "execution_count": 19,
   "metadata": {},
   "outputs": [
    {
     "ename": "NameError",
     "evalue": "name 'sm' is not defined",
     "output_type": "error",
     "traceback": [
      "\u001b[0;31m---------------------------------------------------------------------------\u001b[0m",
      "\u001b[0;31mNameError\u001b[0m                                 Traceback (most recent call last)",
      "\u001b[0;32m<ipython-input-19-9972ed17f0d3>\u001b[0m in \u001b[0;36m<module>\u001b[0;34m\u001b[0m\n\u001b[0;32m----> 1\u001b[0;31m \u001b[0mtt\u001b[0m \u001b[0;34m=\u001b[0m \u001b[0;34m(\u001b[0m\u001b[0msm\u001b[0m\u001b[0;34m-\u001b[0m\u001b[0mm\u001b[0m\u001b[0;34m)\u001b[0m\u001b[0;34m/\u001b[0m\u001b[0mnp\u001b[0m\u001b[0;34m.\u001b[0m\u001b[0msqrt\u001b[0m\u001b[0;34m(\u001b[0m\u001b[0msv\u001b[0m\u001b[0;34m/\u001b[0m\u001b[0mfloat\u001b[0m\u001b[0;34m(\u001b[0m\u001b[0mn\u001b[0m\u001b[0;34m)\u001b[0m\u001b[0;34m)\u001b[0m \u001b[0;31m#t statistic for mean\u001b[0m\u001b[0;34m\u001b[0m\u001b[0m\n\u001b[0m\u001b[1;32m      2\u001b[0m \u001b[0mpval\u001b[0m \u001b[0;34m=\u001b[0m \u001b[0mt\u001b[0m\u001b[0;34m.\u001b[0m\u001b[0msf\u001b[0m\u001b[0;34m(\u001b[0m\u001b[0mnp\u001b[0m\u001b[0;34m.\u001b[0m\u001b[0mabs\u001b[0m\u001b[0;34m(\u001b[0m\u001b[0mtt\u001b[0m\u001b[0;34m)\u001b[0m\u001b[0;34m,\u001b[0m \u001b[0mn\u001b[0m\u001b[0;34m-\u001b[0m\u001b[0;36m1\u001b[0m\u001b[0;34m)\u001b[0m\u001b[0;34m*\u001b[0m\u001b[0;36m2\u001b[0m \u001b[0;31m# two-sided pvalue = Prob(abs(t)>tt)\u001b[0m\u001b[0;34m\u001b[0m\u001b[0m\n\u001b[1;32m      3\u001b[0m \u001b[0;31m#print 't-statistic = %6.3f pvalue = %6.4f' % (tt, pval)\u001b[0m\u001b[0;34m\u001b[0m\u001b[0;34m\u001b[0m\u001b[0m\n\u001b[1;32m      4\u001b[0m \u001b[0;31m#t-statistic = 0.391 pvalue = 0.6955\u001b[0m\u001b[0;34m\u001b[0m\u001b[0;34m\u001b[0m\u001b[0m\n",
      "\u001b[0;31mNameError\u001b[0m: name 'sm' is not defined"
     ]
    }
   ],
   "source": [
    "tt = (sm-m)/np.sqrt(sv/float(n)) #t statistic for mean\n",
    "pval = t.sf(np.abs(tt), n-1)*2 # two-sided pvalue = Prob(abs(t)>tt)\n",
    "#print 't-statistic = %6.3f pvalue = %6.4f' % (tt, pval)\n",
    "#t-statistic = 0.391 pvalue = 0.6955"
   ]
  },
  {
   "cell_type": "code",
   "execution_count": null,
   "metadata": {},
   "outputs": [],
   "source": []
  }
 ],
 "metadata": {
  "kernelspec": {
   "display_name": "Python 3",
   "language": "python",
   "name": "python3"
  },
  "language_info": {
   "codemirror_mode": {
    "name": "ipython",
    "version": 3
   },
   "file_extension": ".py",
   "mimetype": "text/x-python",
   "name": "python",
   "nbconvert_exporter": "python",
   "pygments_lexer": "ipython3",
   "version": "3.5.2"
  }
 },
 "nbformat": 4,
 "nbformat_minor": 2
}
